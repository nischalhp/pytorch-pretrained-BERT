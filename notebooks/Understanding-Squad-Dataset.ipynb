{
 "cells": [
  {
   "cell_type": "code",
   "execution_count": 1,
   "metadata": {},
   "outputs": [],
   "source": [
    "import json"
   ]
  },
  {
   "cell_type": "code",
   "execution_count": 2,
   "metadata": {},
   "outputs": [],
   "source": [
    "with open('../dev-v2.0.json', 'r') as inp_reader:\n",
    "    data = json.load(inp_reader)[\"data\"]"
   ]
  },
  {
   "cell_type": "code",
   "execution_count": 3,
   "metadata": {},
   "outputs": [
    {
     "data": {
      "text/plain": [
       "'The Normans (Norman: Nourmands; French: Normands; Latin: Normanni) were the people who in the 10th and 11th centuries gave their name to Normandy, a region in France. They were descended from Norse (\"Norman\" comes from \"Norseman\") raiders and pirates from Denmark, Iceland and Norway who, under their leader Rollo, agreed to swear fealty to King Charles III of West Francia. Through generations of assimilation and mixing with the native Frankish and Roman-Gaulish populations, their descendants would gradually merge with the Carolingian-based cultures of West Francia. The distinct cultural and ethnic identity of the Normans emerged initially in the first half of the 10th century, and it continued to evolve over the succeeding centuries.'"
      ]
     },
     "execution_count": 3,
     "metadata": {},
     "output_type": "execute_result"
    }
   ],
   "source": [
    "data[0]['paragraphs'][0]['context']"
   ]
  },
  {
   "cell_type": "code",
   "execution_count": 4,
   "metadata": {},
   "outputs": [
    {
     "data": {
      "text/plain": [
       "[{'question': 'In what country is Normandy located?',\n",
       "  'id': '56ddde6b9a695914005b9628',\n",
       "  'answers': [{'text': 'France', 'answer_start': 159},\n",
       "   {'text': 'France', 'answer_start': 159},\n",
       "   {'text': 'France', 'answer_start': 159},\n",
       "   {'text': 'France', 'answer_start': 159}],\n",
       "  'is_impossible': False},\n",
       " {'question': 'When were the Normans in Normandy?',\n",
       "  'id': '56ddde6b9a695914005b9629',\n",
       "  'answers': [{'text': '10th and 11th centuries', 'answer_start': 94},\n",
       "   {'text': 'in the 10th and 11th centuries', 'answer_start': 87},\n",
       "   {'text': '10th and 11th centuries', 'answer_start': 94},\n",
       "   {'text': '10th and 11th centuries', 'answer_start': 94}],\n",
       "  'is_impossible': False},\n",
       " {'question': 'From which countries did the Norse originate?',\n",
       "  'id': '56ddde6b9a695914005b962a',\n",
       "  'answers': [{'text': 'Denmark, Iceland and Norway', 'answer_start': 256},\n",
       "   {'text': 'Denmark, Iceland and Norway', 'answer_start': 256},\n",
       "   {'text': 'Denmark, Iceland and Norway', 'answer_start': 256},\n",
       "   {'text': 'Denmark, Iceland and Norway', 'answer_start': 256}],\n",
       "  'is_impossible': False},\n",
       " {'question': 'Who was the Norse leader?',\n",
       "  'id': '56ddde6b9a695914005b962b',\n",
       "  'answers': [{'text': 'Rollo', 'answer_start': 308},\n",
       "   {'text': 'Rollo', 'answer_start': 308},\n",
       "   {'text': 'Rollo', 'answer_start': 308},\n",
       "   {'text': 'Rollo', 'answer_start': 308}],\n",
       "  'is_impossible': False},\n",
       " {'question': 'What century did the Normans first gain their separate identity?',\n",
       "  'id': '56ddde6b9a695914005b962c',\n",
       "  'answers': [{'text': '10th century', 'answer_start': 671},\n",
       "   {'text': 'the first half of the 10th century', 'answer_start': 649},\n",
       "   {'text': '10th', 'answer_start': 671},\n",
       "   {'text': '10th', 'answer_start': 671}],\n",
       "  'is_impossible': False},\n",
       " {'plausible_answers': [{'text': 'Normans', 'answer_start': 4}],\n",
       "  'question': \"Who gave their name to Normandy in the 1000's and 1100's\",\n",
       "  'id': '5ad39d53604f3c001a3fe8d1',\n",
       "  'answers': [],\n",
       "  'is_impossible': True},\n",
       " {'plausible_answers': [{'text': 'Normandy', 'answer_start': 137}],\n",
       "  'question': 'What is France a region of?',\n",
       "  'id': '5ad39d53604f3c001a3fe8d2',\n",
       "  'answers': [],\n",
       "  'is_impossible': True},\n",
       " {'plausible_answers': [{'text': 'Rollo', 'answer_start': 308}],\n",
       "  'question': 'Who did King Charles III swear fealty to?',\n",
       "  'id': '5ad39d53604f3c001a3fe8d3',\n",
       "  'answers': [],\n",
       "  'is_impossible': True},\n",
       " {'plausible_answers': [{'text': '10th century', 'answer_start': 671}],\n",
       "  'question': 'When did the Frankish identity emerge?',\n",
       "  'id': '5ad39d53604f3c001a3fe8d4',\n",
       "  'answers': [],\n",
       "  'is_impossible': True}]"
      ]
     },
     "execution_count": 4,
     "metadata": {},
     "output_type": "execute_result"
    }
   ],
   "source": [
    "data[0]['paragraphs'][0]['qas']"
   ]
  },
  {
   "cell_type": "markdown",
   "metadata": {},
   "source": [
    "### Converting Wefox page xml to SQuad format"
   ]
  },
  {
   "cell_type": "code",
   "execution_count": 131,
   "metadata": {},
   "outputs": [],
   "source": [
    "import pagexmltools\n",
    "import os\n",
    "import pagexml\n",
    "import pandas as pd"
   ]
  },
  {
   "cell_type": "code",
   "execution_count": 132,
   "metadata": {},
   "outputs": [],
   "source": [
    "inp_dir = '/Users/nischal/code/wefox/'"
   ]
  },
  {
   "cell_type": "code",
   "execution_count": 133,
   "metadata": {},
   "outputs": [],
   "source": [
    "pxml = pagexml.PageXML()"
   ]
  },
  {
   "cell_type": "code",
   "execution_count": 172,
   "metadata": {},
   "outputs": [],
   "source": [
    "def read_merged_xml_get_entities_text(merged_xml):\n",
    "    pxml.loadXml(merged_xml)\n",
    "    out_words_entities = []\n",
    "    entities = []\n",
    "    for page in pxml.select('//_:Page'):\n",
    "        page_number = pxml.getPageNumber(page)\n",
    "        textlines = pxml.select('.//_:TextLine', page)\n",
    "        idx_textlines = pxml.getLeftRightTopBottomReadingOrder(textlines, fake_baseline=True)\n",
    "    \n",
    "        for text_idx in idx_textlines[0]:\n",
    "            words = pxml.select('_:Word', textlines[text_idx])\n",
    "            for word in words:\n",
    "                current_entity = pxml.getPropertyValue(word, 'entity')\n",
    "                word_entity = {}\n",
    "                word_entity['word'] = pxml.getTextEquiv(word)\n",
    "                word_entity['entity'] = current_entity\n",
    "                word_entity['page'] = page_number\n",
    "                word_entity['file_name'] = merged_xml\n",
    "                out_words_entities.append(word_entity)\n",
    "            \n",
    "    \n",
    "            \n",
    "    \n",
    "    df = pd.DataFrame(out_words_entities)\n",
    "    return df\n",
    "    "
   ]
  },
  {
   "cell_type": "code",
   "execution_count": 173,
   "metadata": {},
   "outputs": [],
   "source": [
    "df = read_merged_xml_get_entities_text('/Users/nischal/code/wefox/3869e076-29e5-413d-b507-4b1c728584b3/merged.xml')"
   ]
  },
  {
   "cell_type": "code",
   "execution_count": 174,
   "metadata": {},
   "outputs": [
    {
     "data": {
      "text/html": [
       "<div>\n",
       "<style scoped>\n",
       "    .dataframe tbody tr th:only-of-type {\n",
       "        vertical-align: middle;\n",
       "    }\n",
       "\n",
       "    .dataframe tbody tr th {\n",
       "        vertical-align: top;\n",
       "    }\n",
       "\n",
       "    .dataframe thead th {\n",
       "        text-align: right;\n",
       "    }\n",
       "</style>\n",
       "<table border=\"1\" class=\"dataframe\">\n",
       "  <thead>\n",
       "    <tr style=\"text-align: right;\">\n",
       "      <th></th>\n",
       "      <th>entity</th>\n",
       "      <th>file_name</th>\n",
       "      <th>page</th>\n",
       "      <th>word</th>\n",
       "    </tr>\n",
       "  </thead>\n",
       "  <tbody>\n",
       "    <tr>\n",
       "      <th>0</th>\n",
       "      <td>insurance_company</td>\n",
       "      <td>/Users/nischal/code/wefox/3869e076-29e5-413d-b...</td>\n",
       "      <td>0</td>\n",
       "      <td>AXA</td>\n",
       "    </tr>\n",
       "    <tr>\n",
       "      <th>1</th>\n",
       "      <td>insurance_company</td>\n",
       "      <td>/Users/nischal/code/wefox/3869e076-29e5-413d-b...</td>\n",
       "      <td>0</td>\n",
       "      <td>Versicherung</td>\n",
       "    </tr>\n",
       "    <tr>\n",
       "      <th>2</th>\n",
       "      <td>insurance_company</td>\n",
       "      <td>/Users/nischal/code/wefox/3869e076-29e5-413d-b...</td>\n",
       "      <td>0</td>\n",
       "      <td>AG</td>\n",
       "    </tr>\n",
       "    <tr>\n",
       "      <th>3</th>\n",
       "      <td>O</td>\n",
       "      <td>/Users/nischal/code/wefox/3869e076-29e5-413d-b...</td>\n",
       "      <td>0</td>\n",
       "      <td>0A/1</td>\n",
       "    </tr>\n",
       "    <tr>\n",
       "      <th>4</th>\n",
       "      <td>O</td>\n",
       "      <td>/Users/nischal/code/wefox/3869e076-29e5-413d-b...</td>\n",
       "      <td>0</td>\n",
       "      <td>20050228292</td>\n",
       "    </tr>\n",
       "  </tbody>\n",
       "</table>\n",
       "</div>"
      ],
      "text/plain": [
       "              entity                                          file_name  page  \\\n",
       "0  insurance_company  /Users/nischal/code/wefox/3869e076-29e5-413d-b...     0   \n",
       "1  insurance_company  /Users/nischal/code/wefox/3869e076-29e5-413d-b...     0   \n",
       "2  insurance_company  /Users/nischal/code/wefox/3869e076-29e5-413d-b...     0   \n",
       "3                  O  /Users/nischal/code/wefox/3869e076-29e5-413d-b...     0   \n",
       "4                  O  /Users/nischal/code/wefox/3869e076-29e5-413d-b...     0   \n",
       "\n",
       "           word  \n",
       "0           AXA  \n",
       "1  Versicherung  \n",
       "2            AG  \n",
       "3          0A/1  \n",
       "4   20050228292  "
      ]
     },
     "execution_count": 174,
     "metadata": {},
     "output_type": "execute_result"
    }
   ],
   "source": [
    "df.head()"
   ]
  },
  {
   "cell_type": "code",
   "execution_count": 214,
   "metadata": {},
   "outputs": [],
   "source": [
    "def merge_entity_values(df):\n",
    "    i = 0\n",
    "    questions = []\n",
    "    answers = []\n",
    "    answer_start_index = []\n",
    "    while True:\n",
    "        entity = df.iloc[i]['entity']\n",
    "        if entity == 'O':\n",
    "            i += 1\n",
    "            if i == df.shape[0] - 1:\n",
    "                break\n",
    "            continue\n",
    "        else:\n",
    "            text_concat = ''\n",
    "            j = i\n",
    "            #print(\"j  %d\" %(j,))\n",
    "            answer_start = j\n",
    "            while True:\n",
    "                temp_entity = df.iloc[j]['entity']\n",
    "                if temp_entity != entity:\n",
    "                    questions.append(\"Question is: What is the %s ?\" %(entity,))\n",
    "                    answers.append(text_concat)\n",
    "                    answer_start_index.append(answer_start)\n",
    "                    break\n",
    "                else:\n",
    "                    text_concat = text_concat + ' ' + df.iloc[j]['word']\n",
    "                j +=1\n",
    "            \n",
    "            i = j\n",
    "            #print(\"i is %d\"%(i,))\n",
    "        i +=1\n",
    "        if i == df.shape[0] - 1:\n",
    "            break\n",
    "    \n",
    "    return questions, answers, answer_start_index\n",
    "                "
   ]
  },
  {
   "cell_type": "code",
   "execution_count": 217,
   "metadata": {},
   "outputs": [],
   "source": [
    "def generate_squad_per_page(df):\n",
    "    page_numbers = df.page.unique()\n",
    "    for page_number in page_numbers:\n",
    "        page_df = df.loc[(df.page == page_number)]\n",
    "        paragraph = page_df.word.str.cat(sep=' ')\n",
    "        questions, answers, answer_start_index = merge_entity_values(page_df)\n",
    "        print(page_number)\n",
    "        print(questions)\n",
    "        print(answers)\n",
    "        print(answer_start_index)"
   ]
  },
  {
   "cell_type": "code",
   "execution_count": 218,
   "metadata": {},
   "outputs": [
    {
     "name": "stdout",
     "output_type": "stream",
     "text": [
      "0\n",
      "['Question is: What is the insurance_company ?', 'Question is: What is the insured_name ?', 'Question is: What is the insured_address ?', 'Question is: What is the insured_address ?', 'Question is: What is the policy_number ?', 'Question is: What is the insured_name ?', 'Question is: What is the insured_address ?', 'Question is: What is the insurance_company ?']\n",
      "[' AXA Versicherung AG', ' Thomas Hornberger', ' Bismarckstr. 8', ' 31812 Bad Pyrmont', ' 20050228292/0P', ' Thomas Hornberger', ' 8 31812 Bad Pyrmont', ' AXA Versicherung AG']\n",
      "[0, 23, 31, 35, 50, 165, 168, 173]\n",
      "1\n",
      "['Question is: What is the policy_number ?', 'Question is: What is the payment_term ?', 'Question is: What is the product_group ?', 'Question is: What is the end_date ?', 'Question is: What is the premium_display_term ?', 'Question is: What is the premium_gross ?', 'Question is: What is the insurance_company ?', 'Question is: What is the insured_name ?', 'Question is: What is the insured_address ?', 'Question is: What is the insured_address ?', 'Question is: What is the insurance_company ?']\n",
      "[' 20050228292/0P', ' jährlich', ' Privathaftpflicht', ' 01.01.2019', ' Nettobeitrag.', ' 58,80', ' AXA Versicherung AG', ' Thomas Hornberger', ' 8', ' 31812 Bad Pyrmont', ' AXA Konzern AG']\n",
      "[1, 19, 40, 42, 54, 58, 78, 92, 95, 101, 122]\n",
      "2\n",
      "['Question is: What is the insurance_company ?', 'Question is: What is the insured_name ?', 'Question is: What is the insured_address ?', 'Question is: What is the insurance_company ?', 'Question is: What is the start_date ?', 'Question is: What is the end_date ?', 'Question is: What is the payment_term ?', 'Question is: What is the premium_display_term ?', 'Question is: What is the premium_display_term ?', 'Question is: What is the product_group ?', 'Question is: What is the product_group ?', 'Question is: What is the premium_gross ?', 'Question is: What is the product_group ?']\n",
      "[' AXA Versicherung AG', ' Thomas Hornberger', ' 8 31812 Bad Pyrmont', ' AXA Versicherung AG', ' 01.01.2018,', ' 01.01.2019,', ' jährlich', ' Jahres', ' Beitrag', ' Haftpflicht', ' Privathaftpflichtversicherung', ' 49,41', ' Privathaftpflicht']\n",
      "[80, 110, 113, 118, 136, 144, 155, 159, 161, 164, 167, 176, 204]\n",
      "3\n",
      "['Question is: What is the policy_number ?', 'Question is: What is the premium_display_term ?', 'Question is: What is the premium_display_term ?']\n",
      "[' 20050228292/0P', ' Jahres', ' Beitrag']\n",
      "[188, 192, 194]\n",
      "4\n",
      "['Question is: What is the policy_number ?', 'Question is: What is the premium_display_term ?', 'Question is: What is the premium_display_term ?']\n",
      "[' 20050228292/0P', ' Jahres', ' Beitrag']\n",
      "[242, 246, 248]\n",
      "5\n",
      "['Question is: What is the policy_number ?', 'Question is: What is the premium_display_term ?', 'Question is: What is the premium_display_term ?']\n",
      "[' 20050228292/0P', ' Jahres', ' Beitrag']\n",
      "[264, 268, 270]\n",
      "6\n",
      "['Question is: What is the  premium_net ?', 'Question is: What is the premium_gross ?', 'Question is: What is the policy_number ?']\n",
      "[' 49,41', ' 58,80', ' 20050228292/0P']\n",
      "[233, 237, 260]\n",
      "7\n",
      "['Question is: What is the insurance_company ?', 'Question is: What is the policy_number ?']\n",
      "[' AXA Versicherung AG', ' 20050228292/0P']\n",
      "[178, 394]\n",
      "8\n",
      "[]\n",
      "[]\n",
      "[]\n",
      "9\n",
      "['Question is: What is the policy_number ?', 'Question is: What is the insurance_company ?']\n",
      "[' 20050228292/0P', ' AXA VERSICHERUNG AG']\n",
      "[71, 129]\n"
     ]
    }
   ],
   "source": [
    "generate_squad_per_page(df)"
   ]
  },
  {
   "cell_type": "code",
   "execution_count": 146,
   "metadata": {},
   "outputs": [
    {
     "name": "stdout",
     "output_type": "stream",
     "text": [
      "Processing directory 3869e076-29e5-413d-b507-4b1c728584b3\n",
      "/Users/nischal/code/wefox/3869e076-29e5-413d-b507-4b1c728584b3/origin_page.xml\n",
      "None\n"
     ]
    }
   ],
   "source": [
    "uuid_issues = []\n",
    "for uuid in os.listdir(inp_dir):\n",
    "    uuid_path = os.path.join(inp_dir, uuid)\n",
    "    if os.path.isdir(uuid_path) and uuid != '.git':\n",
    "        print(\"Processing directory %s\" %(uuid,))\n",
    "        origin_page_xml = os.path.join(uuid_path, 'origin_page.xml')\n",
    "        entity_page_xml = os.path.join(uuid_path, 'page.xml')\n",
    "\n",
    "        if os.path.exists(origin_page_xml)  and os.path.exists(entity_page_xml):\n",
    "            read_origin_xml_get_words(origin_page_xml)\n",
    "        else:\n",
    "            print(\"Something went wrong for directory %s\"%(uuid,))\n",
    "            uuid_issues.append(uuid)\n",
    "        break"
   ]
  },
  {
   "cell_type": "code",
   "execution_count": null,
   "metadata": {},
   "outputs": [],
   "source": []
  }
 ],
 "metadata": {
  "kernelspec": {
   "display_name": "Python 3",
   "language": "python",
   "name": "python3"
  },
  "language_info": {
   "codemirror_mode": {
    "name": "ipython",
    "version": 3
   },
   "file_extension": ".py",
   "mimetype": "text/x-python",
   "name": "python",
   "nbconvert_exporter": "python",
   "pygments_lexer": "ipython3",
   "version": "3.6.5"
  }
 },
 "nbformat": 4,
 "nbformat_minor": 2
}
